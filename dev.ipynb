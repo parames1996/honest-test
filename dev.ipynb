{
 "cells": [
  {
   "cell_type": "code",
   "execution_count": 1,
   "metadata": {},
   "outputs": [],
   "source": [
    "import pandas as pd\n",
    "import numpy as np\n",
    "import datetime as dt\n",
    "import psycopg2\n",
    "import json\n",
    "import random\n",
    "import string\n",
    "\n",
    "def connectDb_func(DbConfig):\n",
    "    conn = psycopg2.connect(**DbConfig)\n",
    "    conn.autocommit = True\n",
    "    return conn\n",
    "\n",
    "def insert_func(DbConfig,data,tableName):\n",
    "    data = data.fillna('NULL')\n",
    "    sql = '''INSERT INTO {} ({}) VALUES {};'''.format(\n",
    "        tableName\n",
    "        , \",\".join(['\"{}\"'.format(c) for c in data.columns])\n",
    "        , ','.join(['('+\",\".join([\"'{}'\".format(v)  if type(v)==str else '{}'.format(v) for v in row])+')' for row in data.values])\n",
    "    )\n",
    "    conn = connectDb_func(DbConfig)\n",
    "    cursor = conn.cursor()\n",
    "    \n",
    "    cursor.execute(sql)\n",
    "    conn.commit()\n",
    "    cursor.close()\n",
    "    conn.close()\n",
    "    return\n",
    "\n",
    "def query_func(DbConfig,sql):\n",
    "    conn = connectDb_func(DbConfig)\n",
    "    cursor = conn.cursor()\n",
    "    \n",
    "    cursor.execute(sql)\n",
    "    data = cursor.fetchall()\n",
    "    colnames = [desc[0] for desc in cursor.description]\n",
    "    data = {\n",
    "        'data' : data\n",
    "        , 'columns' : colnames\n",
    "    }\n",
    "    \n",
    "    cursor.close()\n",
    "    conn.close()\n",
    "    return data"
   ]
  },
  {
   "cell_type": "code",
   "execution_count": null,
   "metadata": {},
   "outputs": [],
   "source": [
    "### load config connection to database\n",
    "DbConfig = json.load(open('config.json'))"
   ]
  },
  {
   "cell_type": "code",
   "execution_count": 2,
   "metadata": {},
   "outputs": [
    {
     "name": "stdout",
     "output_type": "stream",
     "text": [
      "CPU times: user 48 s, sys: 5.94 s, total: 53.9 s\n",
      "Wall time: 54.1 s\n"
     ]
    }
   ],
   "source": [
    "%%time\n",
    "### load and preparing\n",
    "dict_dtype = {\n",
    "    'Amount Requested' : 'float64'\n",
    "    , 'Application Date' : 'str'\n",
    "    , 'Loan Title' : 'str'\n",
    "    , 'Risk_Score' : 'float64'\n",
    "    , 'Debt-To-Income Ratio' : 'str'\n",
    "    , 'Zip Code' : 'str'\n",
    "    , 'State' : 'str'\n",
    "    , 'Employment Length' : 'str'\n",
    "    , 'Policy Code' : 'float64'\n",
    "}\n",
    "\n",
    "df = pd.read_csv('rejected_2007_to_2018Q4.csv',dtype = dict_dtype)\n",
    "df['Debt-To-Income Ratio'] = df['Debt-To-Income Ratio'].str.replace('%','').astype('float64')\n",
    "df['Loan Title'] = df['Loan Title'].str.replace(\"'\",\"\")\n",
    "df = df.sort_values('Application Date').reset_index(drop=True)\n",
    "df['Risk_Score'] = df['Risk_Score'].fillna(0)"
   ]
  },
  {
   "cell_type": "code",
   "execution_count": 3,
   "metadata": {},
   "outputs": [],
   "source": [
    "%%time\n",
    "# resmapling and save real data\n",
    "df[df['Application Date'] <= '2007-12-31'].head(1000).to_csv('rejected2007.csv',index=False)\n",
    "df[df['Application Date'] > '2008-12-31'].head(1000).to_csv('rejected2009.csv',index=False)"
   ]
  },
  {
   "cell_type": "code",
   "execution_count": 199,
   "metadata": {},
   "outputs": [],
   "source": [
    "%%time\n",
    "## mock data \n",
    "list_date = [dt.datetime(2008,12,31) - dt.timedelta(days=x) for x in range(366)]\n",
    "text = list(string.ascii_lowercase)\n",
    "Employ = list(df['Employment Length'].unique())[:-2]\n",
    "pd.DataFrame(\n",
    "    {\n",
    "        'Amount Requested' : random.sample(range(0, 10000), len(list_date))\n",
    "        , 'Application Date' : list_date\n",
    "        , 'Loan Title' : ['mock_{}'.format(x) for x in range(len(list_date))]\n",
    "        , 'Risk_Score' : random.sample(range(0, 500), len(list_date))\n",
    "        , 'Debt-To-Income Ratio' : random.sample(range(0, 500), len(list_date))\n",
    "        , 'Zip Code' : ['{}xx'.format(x) for x in random.sample(range(100, 1000), len(list_date))]\n",
    "        , 'State' : [''.join(random.choices(text, k=2)) for x in range(len(list_date))]\n",
    "        , 'Employment Length' : [random.choices(Employ, k=1)[0] for x in range(len(list_date))]\n",
    "        , 'Policy Code' : [random.choices([1,2], k=1)[0] for x in range(len(list_date))]\n",
    "    }\n",
    ").sort_values('Application Date').to_csv('rejected2008.csv',index=False)"
   ]
  },
  {
   "cell_type": "code",
   "execution_count": null,
   "metadata": {},
   "outputs": [],
   "source": []
  }
 ],
 "metadata": {
  "kernelspec": {
   "display_name": "Python 3",
   "language": "python",
   "name": "python3"
  },
  "language_info": {
   "codemirror_mode": {
    "name": "ipython",
    "version": 3
   },
   "file_extension": ".py",
   "mimetype": "text/x-python",
   "name": "python",
   "nbconvert_exporter": "python",
   "pygments_lexer": "ipython3",
   "version": "3.8.5"
  }
 },
 "nbformat": 4,
 "nbformat_minor": 4
}
